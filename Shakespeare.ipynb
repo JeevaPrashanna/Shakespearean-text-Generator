{
 "cells": [
  {
   "cell_type": "code",
   "execution_count": 1,
   "metadata": {
    "colab": {},
    "colab_type": "code",
    "id": "BOwsuGQQY9OL"
   },
   "outputs": [],
   "source": [
    "from tensorflow.keras.preprocessing.sequence import pad_sequences\n",
    "from tensorflow.keras.layers import Embedding, LSTM, Dense, Dropout, Bidirectional\n",
    "from tensorflow.keras.preprocessing.text import Tokenizer\n",
    "from tensorflow.keras.models import Sequential\n",
    "from tensorflow.keras.optimizers import Adam\n",
    "from tensorflow.keras import regularizers\n",
    "import tensorflow.keras.utils as ku \n",
    "import numpy as np "
   ]
  },
  {
   "cell_type": "code",
   "execution_count": 2,
   "metadata": {},
   "outputs": [],
   "source": [
    "import os"
   ]
  },
  {
   "cell_type": "code",
   "execution_count": 4,
   "metadata": {
    "colab": {},
    "colab_type": "code",
    "id": "PRnDnCW-Z7qv"
   },
   "outputs": [],
   "source": [
    "tokenizer = Tokenizer()\n",
    "\n",
    "data_loc = os.getcwd() + '/sonnet.txt'\n",
    "\n",
    "data = open(data_loc).read()\n",
    "\n",
    "corpus = data.lower().split(\"\\n\")\n",
    "\n",
    "\n",
    "tokenizer.fit_on_texts(corpus)\n",
    "total_words = len(tokenizer.word_index) + 1\n",
    "\n",
    "# create input sequences using list of tokens\n",
    "input_sequences = []\n",
    "for line in corpus:\n",
    "    token_list = tokenizer.texts_to_sequences([line])[0]\n",
    "    for i in range(1, len(token_list)):\n",
    "        n_gram_sequence = token_list[:i+1]\n",
    "        input_sequences.append(n_gram_sequence)\n",
    "\n",
    "\n",
    "# pad sequences \n",
    "max_sequence_len = max([len(x) for x in input_sequences])\n",
    "input_sequences = np.array(pad_sequences(input_sequences, maxlen=max_sequence_len, padding='pre'))\n",
    "\n",
    "# create predictors and label\n",
    "predictors, label = input_sequences[:,:-1],input_sequences[:,-1]\n",
    "\n",
    "label = ku.to_categorical(label, num_classes=total_words)"
   ]
  },
  {
   "cell_type": "code",
   "execution_count": 5,
   "metadata": {
    "colab": {},
    "colab_type": "code",
    "id": "w9vH8Y59ajYL"
   },
   "outputs": [
    {
     "name": "stdout",
     "output_type": "stream",
     "text": [
      "Model: \"sequential\"\n",
      "_________________________________________________________________\n",
      "Layer (type)                 Output Shape              Param #   \n",
      "=================================================================\n",
      "embedding (Embedding)        (None, 15, 100)           385600    \n",
      "_________________________________________________________________\n",
      "bidirectional (Bidirectional (None, 15, 300)           301200    \n",
      "_________________________________________________________________\n",
      "dropout (Dropout)            (None, 15, 300)           0         \n",
      "_________________________________________________________________\n",
      "lstm_1 (LSTM)                (None, 100)               160400    \n",
      "_________________________________________________________________\n",
      "dense (Dense)                (None, 1928)              194728    \n",
      "_________________________________________________________________\n",
      "dense_1 (Dense)              (None, 3856)              7438224   \n",
      "=================================================================\n",
      "Total params: 8,480,152\n",
      "Trainable params: 8,480,152\n",
      "Non-trainable params: 0\n",
      "_________________________________________________________________\n",
      "None\n"
     ]
    }
   ],
   "source": [
    "model = Sequential()\n",
    "model.add(Embedding(total_words, 100, input_length=max_sequence_len-1))\n",
    "model.add(Bidirectional(LSTM(150, return_sequences = True)))\n",
    "model.add(Dropout(0.2))\n",
    "model.add(LSTM(100))\n",
    "model.add(Dense(total_words/2, activation='relu', kernel_regularizer=regularizers.l2(0.01)))\n",
    "model.add(Dense(total_words, activation='softmax'))\n",
    "model.compile(loss='categorical_crossentropy', optimizer='adam', metrics=['accuracy'])\n",
    "print(model.summary())\n"
   ]
  },
  {
   "cell_type": "code",
   "execution_count": 6,
   "metadata": {
    "colab": {},
    "colab_type": "code",
    "id": "AIg2f1HBxqof"
   },
   "outputs": [
    {
     "name": "stdout",
     "output_type": "stream",
     "text": [
      "Epoch 1/100\n",
      "574/574 [==============================] - 89s 156ms/step - loss: 6.9534 - accuracy: 0.0241\n",
      "Epoch 2/100\n",
      "574/574 [==============================] - 89s 154ms/step - loss: 6.5764 - accuracy: 0.0267\n",
      "Epoch 3/100\n",
      "574/574 [==============================] - 87s 151ms/step - loss: 6.4588 - accuracy: 0.0341\n",
      "Epoch 4/100\n",
      "574/574 [==============================] - 88s 154ms/step - loss: 6.3167 - accuracy: 0.0445\n",
      "Epoch 5/100\n",
      "574/574 [==============================] - 89s 155ms/step - loss: 6.2145 - accuracy: 0.0468\n",
      "Epoch 6/100\n",
      "574/574 [==============================] - 90s 156ms/step - loss: 6.1313 - accuracy: 0.0507\n",
      "Epoch 7/100\n",
      "574/574 [==============================] - 89s 154ms/step - loss: 6.0513 - accuracy: 0.0549s - l\n",
      "Epoch 8/100\n",
      "574/574 [==============================] - 89s 155ms/step - loss: 5.9787 - accuracy: 0.0572\n",
      "Epoch 9/100\n",
      "574/574 [==============================] - 91s 159ms/step - loss: 5.8962 - accuracy: 0.0636\n",
      "Epoch 10/100\n",
      "574/574 [==============================] - 92s 160ms/step - loss: 5.8168 - accuracy: 0.0693\n",
      "Epoch 11/100\n",
      "574/574 [==============================] - 86s 150ms/step - loss: 5.7370 - accuracy: 0.0748\n",
      "Epoch 12/100\n",
      "574/574 [==============================] - 88s 153ms/step - loss: 5.6548 - accuracy: 0.0796\n",
      "Epoch 13/100\n",
      "574/574 [==============================] - 89s 154ms/step - loss: 5.5669 - accuracy: 0.0833\n",
      "Epoch 14/100\n",
      "574/574 [==============================] - 328s 571ms/step - loss: 5.4910 - accuracy: 0.0877\n",
      "Epoch 15/100\n",
      "574/574 [==============================] - 85s 149ms/step - loss: 5.4030 - accuracy: 0.0934\n",
      "Epoch 16/100\n",
      "574/574 [==============================] - 95s 166ms/step - loss: 5.3173 - accuracy: 0.0956\n",
      "Epoch 17/100\n",
      "574/574 [==============================] - 94s 164ms/step - loss: 5.2344 - accuracy: 0.1017\n",
      "Epoch 18/100\n",
      "574/574 [==============================] - 94s 164ms/step - loss: 5.1552 - accuracy: 0.1052\n",
      "Epoch 19/100\n",
      "574/574 [==============================] - 87s 152ms/step - loss: 5.0733 - accuracy: 0.1118\n",
      "Epoch 20/100\n",
      "574/574 [==============================] - 86s 149ms/step - loss: 4.9928 - accuracy: 0.1162\n",
      "Epoch 21/100\n",
      "574/574 [==============================] - 235s 409ms/step - loss: 4.9213 - accuracy: 0.1193\n",
      "Epoch 22/100\n",
      "574/574 [==============================] - 91s 158ms/step - loss: 4.8473 - accuracy: 0.1248\n",
      "Epoch 23/100\n",
      "574/574 [==============================] - 100s 174ms/step - loss: 4.7739 - accuracy: 0.1297\n",
      "Epoch 24/100\n",
      "574/574 [==============================] - 101s 176ms/step - loss: 4.7001 - accuracy: 0.1350\n",
      "Epoch 25/100\n",
      "574/574 [==============================] - 90s 158ms/step - loss: 4.6274 - accuracy: 0.1414\n",
      "Epoch 26/100\n",
      "574/574 [==============================] - 97s 169ms/step - loss: 4.5616 - accuracy: 0.1482\n",
      "Epoch 27/100\n",
      "574/574 [==============================] - 100s 173ms/step - loss: 4.4959 - accuracy: 0.1528\n",
      "Epoch 28/100\n",
      "574/574 [==============================] - 101s 176ms/step - loss: 4.4219 - accuracy: 0.1603\n",
      "Epoch 29/100\n",
      "574/574 [==============================] - 99s 172ms/step - loss: 4.3574 - accuracy: 0.1675s - loss: 4.3566 - ac\n",
      "Epoch 30/100\n",
      "574/574 [==============================] - 100s 174ms/step - loss: 4.2895 - accuracy: 0.1746\n",
      "Epoch 31/100\n",
      "574/574 [==============================] - 100s 174ms/step - loss: 4.2273 - accuracy: 0.1820\n",
      "Epoch 32/100\n",
      "574/574 [==============================] - 101s 175ms/step - loss: 4.1702 - accuracy: 0.1888\n",
      "Epoch 33/100\n",
      "574/574 [==============================] - 100s 175ms/step - loss: 4.1126 - accuracy: 0.1962\n",
      "Epoch 34/100\n",
      "574/574 [==============================] - 101s 176ms/step - loss: 4.0496 - accuracy: 0.2051\n",
      "Epoch 35/100\n",
      "574/574 [==============================] - 99s 172ms/step - loss: 3.9916 - accuracy: 0.2127\n",
      "Epoch 36/100\n",
      "574/574 [==============================] - 107s 186ms/step - loss: 3.9286 - accuracy: 0.2238\n",
      "Epoch 37/100\n",
      "574/574 [==============================] - 101s 177ms/step - loss: 3.8761 - accuracy: 0.2322\n",
      "Epoch 38/100\n",
      "574/574 [==============================] - 97s 169ms/step - loss: 3.8117 - accuracy: 0.2436\n",
      "Epoch 39/100\n",
      "574/574 [==============================] - 99s 173ms/step - loss: 3.7572 - accuracy: 0.2508\n",
      "Epoch 40/100\n",
      "574/574 [==============================] - 91s 159ms/step - loss: 3.7044 - accuracy: 0.2629\n",
      "Epoch 41/100\n",
      "574/574 [==============================] - 100s 175ms/step - loss: 3.6581 - accuracy: 0.2715\n",
      "Epoch 42/100\n",
      "574/574 [==============================] - 95s 166ms/step - loss: 3.5936 - accuracy: 0.2830\n",
      "Epoch 43/100\n",
      "574/574 [==============================] - 94s 163ms/step - loss: 3.5409 - accuracy: 0.2942\n",
      "Epoch 44/100\n",
      "574/574 [==============================] - 101s 176ms/step - loss: 3.4918 - accuracy: 0.3026\n",
      "Epoch 45/100\n",
      "574/574 [==============================] - 90s 158ms/step - loss: 3.4515 - accuracy: 0.3127\n",
      "Epoch 46/100\n",
      "574/574 [==============================] - 100s 173ms/step - loss: 3.3891 - accuracy: 0.3194\n",
      "Epoch 47/100\n",
      "574/574 [==============================] - 100s 175ms/step - loss: 3.3467 - accuracy: 0.3318\n",
      "Epoch 48/100\n",
      "574/574 [==============================] - 88s 154ms/step - loss: 3.2965 - accuracy: 0.3396\n",
      "Epoch 49/100\n",
      "574/574 [==============================] - 97s 168ms/step - loss: 3.2490 - accuracy: 0.3520\n",
      "Epoch 50/100\n",
      "574/574 [==============================] - 89s 155ms/step - loss: 3.2041 - accuracy: 0.3599\n",
      "Epoch 51/100\n",
      "574/574 [==============================] - 98s 170ms/step - loss: 3.1587 - accuracy: 0.3693\n",
      "Epoch 52/100\n",
      "574/574 [==============================] - 99s 172ms/step - loss: 3.1177 - accuracy: 0.3774\n",
      "Epoch 53/100\n",
      "574/574 [==============================] - 94s 164ms/step - loss: 3.0740 - accuracy: 0.3875\n",
      "Epoch 54/100\n",
      "574/574 [==============================] - 96s 167ms/step - loss: 3.0245 - accuracy: 0.4001\n",
      "Epoch 55/100\n",
      "574/574 [==============================] - 107s 186ms/step - loss: 2.9788 - accuracy: 0.4034\n",
      "Epoch 56/100\n",
      "574/574 [==============================] - 98s 171ms/step - loss: 2.9376 - accuracy: 0.4140\n",
      "Epoch 57/100\n",
      "574/574 [==============================] - 95s 166ms/step - loss: 2.9057 - accuracy: 0.4222\n",
      "Epoch 58/100\n",
      "574/574 [==============================] - 102s 178ms/step - loss: 2.8664 - accuracy: 0.4308\n",
      "Epoch 59/100\n",
      "574/574 [==============================] - 98s 171ms/step - loss: 2.8330 - accuracy: 0.4388\n",
      "Epoch 60/100\n",
      "574/574 [==============================] - 96s 166ms/step - loss: 2.7959 - accuracy: 0.4467\n",
      "Epoch 61/100\n",
      "574/574 [==============================] - 104s 182ms/step - loss: 2.7548 - accuracy: 0.4544\n",
      "Epoch 62/100\n",
      "574/574 [==============================] - 100s 175ms/step - loss: 2.7120 - accuracy: 0.4648\n",
      "Epoch 63/100\n",
      "574/574 [==============================] - 93s 163ms/step - loss: 2.6754 - accuracy: 0.4724\n",
      "Epoch 64/100\n",
      "574/574 [==============================] - 104s 181ms/step - loss: 2.6372 - accuracy: 0.4767\n",
      "Epoch 65/100\n",
      "574/574 [==============================] - 95s 166ms/step - loss: 2.6070 - accuracy: 0.4876\n",
      "Epoch 66/100\n",
      "574/574 [==============================] - 96s 167ms/step - loss: 2.5749 - accuracy: 0.4953\n",
      "Epoch 67/100\n",
      "574/574 [==============================] - 103s 180ms/step - loss: 2.5329 - accuracy: 0.5056\n",
      "Epoch 68/100\n",
      "574/574 [==============================] - 99s 172ms/step - loss: 2.5047 - accuracy: 0.5102\n",
      "Epoch 69/100\n",
      "574/574 [==============================] - 96s 167ms/step - loss: 2.4673 - accuracy: 0.5196\n",
      "Epoch 70/100\n",
      "574/574 [==============================] - 100s 174ms/step - loss: 2.4402 - accuracy: 0.5279\n",
      "Epoch 71/100\n",
      "574/574 [==============================] - 104s 181ms/step - loss: 2.4276 - accuracy: 0.5262\n",
      "Epoch 72/100\n",
      "574/574 [==============================] - 96s 168ms/step - loss: 2.3840 - accuracy: 0.5386\n",
      "Epoch 73/100\n",
      "574/574 [==============================] - 101s 177ms/step - loss: 2.3530 - accuracy: 0.5432\n",
      "Epoch 74/100\n",
      "574/574 [==============================] - 103s 179ms/step - loss: 2.3237 - accuracy: 0.5522\n",
      "Epoch 75/100\n",
      "574/574 [==============================] - 95s 166ms/step - loss: 2.2944 - accuracy: 0.5585\n",
      "Epoch 76/100\n",
      "574/574 [==============================] - 97s 168ms/step - loss: 2.2693 - accuracy: 0.5627\n",
      "Epoch 77/100\n",
      "574/574 [==============================] - 101s 176ms/step - loss: 2.2461 - accuracy: 0.5661\n",
      "Epoch 78/100\n",
      "574/574 [==============================] - 88s 153ms/step - loss: 2.2247 - accuracy: 0.5730\n",
      "Epoch 79/100\n",
      "574/574 [==============================] - 101s 175ms/step - loss: 2.1921 - accuracy: 0.5825\n",
      "Epoch 80/100\n",
      "574/574 [==============================] - 98s 171ms/step - loss: 2.1535 - accuracy: 0.5865\n",
      "Epoch 81/100\n",
      "574/574 [==============================] - 91s 158ms/step - loss: 2.1382 - accuracy: 0.5906\n",
      "Epoch 82/100\n",
      "574/574 [==============================] - 101s 175ms/step - loss: 2.1169 - accuracy: 0.5949\n",
      "Epoch 83/100\n",
      "574/574 [==============================] - 92s 160ms/step - loss: 2.0836 - accuracy: 0.6035\n",
      "Epoch 84/100\n",
      "574/574 [==============================] - 95s 166ms/step - loss: 2.0706 - accuracy: 0.6067\n",
      "Epoch 85/100\n",
      "574/574 [==============================] - 100s 174ms/step - loss: 2.0475 - accuracy: 0.6103\n",
      "Epoch 86/100\n",
      "574/574 [==============================] - 90s 157ms/step - loss: 2.0371 - accuracy: 0.6104\n",
      "Epoch 87/100\n",
      "574/574 [==============================] - 99s 173ms/step - loss: 1.9990 - accuracy: 0.6197\n",
      "Epoch 88/100\n",
      "574/574 [==============================] - 96s 168ms/step - loss: 1.9787 - accuracy: 0.6257\n",
      "Epoch 89/100\n",
      "574/574 [==============================] - 92s 159ms/step - loss: 1.9634 - accuracy: 0.6279\n",
      "Epoch 90/100\n",
      "574/574 [==============================] - 96s 167ms/step - loss: 1.9337 - accuracy: 0.6321\n",
      "Epoch 91/100\n",
      "574/574 [==============================] - 46s 80ms/step - loss: 1.9141 - accuracy: 0.6389\n",
      "Epoch 92/100\n",
      "574/574 [==============================] - 45s 79ms/step - loss: 1.8975 - accuracy: 0.6427\n",
      "Epoch 93/100\n",
      "574/574 [==============================] - 55s 97ms/step - loss: 1.8785 - accuracy: 0.6475\n",
      "Epoch 94/100\n",
      "574/574 [==============================] - 49s 85ms/step - loss: 1.8627 - accuracy: 0.6495\n",
      "Epoch 95/100\n",
      "574/574 [==============================] - 44s 77ms/step - loss: 1.8409 - accuracy: 0.6529\n",
      "Epoch 96/100\n",
      "574/574 [==============================] - 50s 87ms/step - loss: 1.8249 - accuracy: 0.6568\n",
      "Epoch 97/100\n",
      "574/574 [==============================] - 55s 97ms/step - loss: 1.8070 - accuracy: 0.6579\n",
      "Epoch 98/100\n",
      "574/574 [==============================] - 44s 77ms/step - loss: 1.7897 - accuracy: 0.6622\n",
      "Epoch 99/100\n",
      "574/574 [==============================] - 46s 81ms/step - loss: 1.7685 - accuracy: 0.6720\n",
      "Epoch 100/100\n",
      "574/574 [==============================] - 55s 96ms/step - loss: 1.7526 - accuracy: 0.6755\n"
     ]
    }
   ],
   "source": [
    " history = model.fit(predictors, label, epochs=100, verbose=1)"
   ]
  },
  {
   "cell_type": "code",
   "execution_count": 7,
   "metadata": {
    "colab": {},
    "colab_type": "code",
    "id": "1fXTEO3GJ282"
   },
   "outputs": [
    {
     "data": {
      "image/png": "[encoded data removed]",
      "text/plain": [
       "<Figure size 432x288 with 1 Axes>"
      ]
     },
     "metadata": {
      "needs_background": "light"
     },
     "output_type": "display_data"
    },
    {
     "data": {
      "image/png": "[encoded data removed]",
      "text/plain": [
       "<Figure size 432x288 with 1 Axes>"
      ]
     },
     "metadata": {
      "needs_background": "light"
     },
     "output_type": "display_data"
    }
   ],
   "source": [
    "import matplotlib.pyplot as plt\n",
    "acc = history.history['accuracy']\n",
    "loss = history.history['loss']\n",
    "\n",
    "epochs = range(len(acc))\n",
    "\n",
    "plt.plot(epochs, acc, 'b', label='Training accuracy')\n",
    "plt.title('Training accuracy')\n",
    "\n",
    "plt.figure()\n",
    "\n",
    "plt.plot(epochs, loss, 'b', label='Training Loss')\n",
    "plt.title('Training loss')\n",
    "plt.legend()\n",
    "\n",
    "plt.show()"
   ]
  },
  {
   "cell_type": "code",
   "execution_count": 12,
   "metadata": {
    "colab": {},
    "colab_type": "code",
    "id": "6Vc6PHgxa6Hm"
   },
   "outputs": [
    {
     "name": "stdout",
     "output_type": "stream",
     "text": [
      "Help me Obi Wan Kenobi, you're my only hope which nimble matter would hap to his body's treason payments of warranty 1041 zip fired fangled by the widest variety gutenberg store barren pride refined pen will good including end sweet heart feeding sweet truth dull new feeding life thee no every foundation you cannot dwell in altering deep shown more wished wide in this every foundation without any other and not better sweet deeds for this thee i say that my self respect spent fangled ill mine no well of one shakespeare's life and every foundation i see you have sweet self dull heart's praise in youth by literary\n"
     ]
    }
   ],
   "source": [
    "seed_text = \"Help me Obi Wan Kenobi, you're my only hope\"\n",
    "next_words = 100\n",
    "  \n",
    "for _ in range(next_words):\n",
    "    token_list = tokenizer.texts_to_sequences([seed_text])[0]\n",
    "    token_list = pad_sequences([token_list], maxlen=max_sequence_len-1, padding='pre')\n",
    "    predicted = model.predict_classes(token_list, verbose=0)\n",
    "    output_word = \"\"\n",
    "    for word, index in tokenizer.word_index.items():\n",
    "        if index == predicted:\n",
    "            output_word = word\n",
    "            break\n",
    "    seed_text += \" \" + output_word\n",
    "print(seed_text)"
   ]
  },
  {
   "cell_type": "code",
   "execution_count": null,
   "metadata": {},
   "outputs": [],
   "source": []
  }
 ],
 "metadata": {
  "accelerator": "GPU",
  "colab": {
   "name": "NLP_Week4_Exercise_Shakespeare_Answer.ipynb",
   "provenance": [],
   "toc_visible": true,
   "version": "0.3.2"
  },
  "kernelspec": {
   "display_name": "Python 3",
   "language": "python",
   "name": "python3"
  },
  "language_info": {
   "codemirror_mode": {
    "name": "ipython",
    "version": 3
   },
   "file_extension": ".py",
   "mimetype": "text/x-python",
   "name": "python",
   "nbconvert_exporter": "python",
   "pygments_lexer": "ipython3",
   "version": "3.7.7"
  }
 },
 "nbformat": 4,
 "nbformat_minor": 4
}
